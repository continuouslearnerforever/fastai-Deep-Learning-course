{
 "cells": [
  {
   "cell_type": "markdown",
   "metadata": {},
   "source": [
    "# Natural Language (NLP)\n",
    "\n",
    "> This notebook is following the fourth lesson in the [fast ai Practical Deep Learning for Coders course](https://course.fast.ai/Lessons/lesson4.html)"
   ]
  },
  {
   "cell_type": "markdown",
   "metadata": {},
   "source": [
    "The resources related are as following:\n",
    "\n",
    "1. [Lesson 4 lecture](https://www.youtube.com/watch?v=toUgBQv1BT8)\n",
    "   \n",
    "2. [Deep Learning for Coders with Fastai and PyTorch: AI Applications Without a PhD Chapter 10](https://github.com/fastai/fastbook/blob/master/10_nlp.ipynb)\n",
    "   \n",
    "3. Course Notebooks:\n",
    "    1. [Getting started with NLP for absolute beginners](https://www.kaggle.com/code/jhoward/getting-started-with-nlp-for-absolute-beginners)\n",
    "    2. [Iterate like a grandmaster!](https://www.kaggle.com/code/jhoward/iterate-like-a-grandmaster)"
   ]
  },
  {
   "cell_type": "code",
   "execution_count": null,
   "metadata": {},
   "outputs": [],
   "source": [
    "#| default_exp NLP"
   ]
  },
  {
   "cell_type": "code",
   "execution_count": null,
   "metadata": {},
   "outputs": [],
   "source": [
    "#| hide\n",
    "from nbdev.showdoc import *"
   ]
  },
  {
   "cell_type": "code",
   "execution_count": null,
   "metadata": {},
   "outputs": [],
   "source": [
    "#| hide\n",
    "# Suppress only UserWarning\n",
    "import warnings\n",
    "\n",
    "warnings.filterwarnings('ignore', category=UserWarning)"
   ]
  },
  {
   "cell_type": "markdown",
   "metadata": {},
   "source": [
    "**Detect if notebook is running on Kaggle**\n",
    "\n",
    "It's a good idea to ensure you're running the latest version of any libraries you need.\n",
    "`!pip install -Uqq <libraries>` upgrades to the latest version of <libraries>"
   ]
  },
  {
   "cell_type": "code",
   "execution_count": null,
   "metadata": {},
   "outputs": [],
   "source": [
    "import os\n",
    "iskaggle = os.environ.get('KAGGLE_KERNEL_RUN_TYPE', '')\n",
    "\n",
    "if iskaggle:\n",
    "    print('Is running on Kaggle.')\n",
    "    !pip install -Uqq fastai"
   ]
  },
  {
   "cell_type": "markdown",
   "metadata": {},
   "source": [
    "## NLP for absolute beginners\n",
    "\n",
    "In this lecture, Jeremy explains the basics and foundations of NLP through  the [U.S. Patent Phrase to Phrase Matching Kaggle compettion](https://www.kaggle.com/competitions/us-patent-phrase-to-phrase-matching).\n",
    "\n",
    "He explains the simple usage of Pandas and numpy and HuggingFace Transformers while walking us through submission of the competition.\n",
    "\n",
    "He also explains tokenization and the importance of selecting train and validation sets correctly and highlighted the reading of Dr. Rachel Thomas artcile [How (and why) to create a good validation set](https://www.fast.ai/posts/2017-11-13-validation-sets.html)\n",
    "\n",
    "Then Jeremy articulates *Pearson correlation coefficient* with a sample and explains what different values of *r* means with some visualizations of a real example.\n",
    "\n",
    "I'd like to suggest using modern chat bots such as google Gemini to ask them explain a subject clearly.\n",
    "\n",
    "For enhancing the competition particication skills and basically improving the skills in ML development, Jeremy has developed another notebook walking us through the steps that he takes for iterating as quickly and easily as possible in submitting for that competition.\n",
    "\n"
   ]
  }
 ],
 "metadata": {
  "kernelspec": {
   "display_name": "python3",
   "language": "python",
   "name": "python3"
  }
 },
 "nbformat": 4,
 "nbformat_minor": 4
}
